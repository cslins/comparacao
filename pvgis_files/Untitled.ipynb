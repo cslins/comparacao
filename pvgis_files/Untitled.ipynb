{
 "cells": [
  {
   "cell_type": "code",
   "execution_count": 1,
   "id": "b4f3c361-fe4a-4912-bafc-13e3e04a007c",
   "metadata": {
    "execution": {
     "iopub.execute_input": "2023-07-11T13:48:09.331820Z",
     "iopub.status.busy": "2023-07-11T13:48:09.331820Z",
     "iopub.status.idle": "2023-07-11T13:48:11.146086Z",
     "shell.execute_reply": "2023-07-11T13:48:11.146086Z",
     "shell.execute_reply.started": "2023-07-11T13:48:09.331820Z"
    }
   },
   "outputs": [],
   "source": [
    "import pandas as pd\n",
    "from matplotlib import pyplot as plt\n",
    "import datetime as datetime\n",
    "import numpy as np\n",
    "import json\n",
    "import os\n",
    "from statistics import mean, median\n",
    "import requests\n",
    "import datetime, pytz\n",
    "from geopy.geocoders import Nominatim\n",
    "from timezonefinder import TimezoneFinder"
   ]
  },
  {
   "cell_type": "code",
   "execution_count": 7,
   "id": "79ca3946-7957-4cfe-818d-26fdac7782f9",
   "metadata": {
    "execution": {
     "iopub.execute_input": "2023-07-11T13:50:49.347093Z",
     "iopub.status.busy": "2023-07-11T13:50:49.347093Z",
     "iopub.status.idle": "2023-07-11T13:50:49.514994Z",
     "shell.execute_reply": "2023-07-11T13:50:49.514261Z",
     "shell.execute_reply.started": "2023-07-11T13:50:49.347093Z"
    },
    "tags": []
   },
   "outputs": [],
   "source": [
    "f = 'Porto_SA2_2kWp_crystSi_0_34deg_1deg_2013_2013.json'\n",
    "with open(f, 'r') as json_file:\n",
    "    json_load = json.load(json_file)\n",
    "\n",
    "df = pd.json_normalize(json_load['outputs']['hourly'])\n",
    "df = df[['time', 'P']]"
   ]
  },
  {
   "cell_type": "code",
   "execution_count": 8,
   "id": "f453c020-6cbe-45a0-a8c8-27b89bd3d71e",
   "metadata": {
    "execution": {
     "iopub.execute_input": "2023-07-11T13:50:49.554793Z",
     "iopub.status.busy": "2023-07-11T13:50:49.554793Z",
     "iopub.status.idle": "2023-07-11T13:50:49.578112Z",
     "shell.execute_reply": "2023-07-11T13:50:49.576765Z",
     "shell.execute_reply.started": "2023-07-11T13:50:49.554793Z"
    },
    "tags": []
   },
   "outputs": [
    {
     "data": {
      "text/html": [
       "<div>\n",
       "<style scoped>\n",
       "    .dataframe tbody tr th:only-of-type {\n",
       "        vertical-align: middle;\n",
       "    }\n",
       "\n",
       "    .dataframe tbody tr th {\n",
       "        vertical-align: top;\n",
       "    }\n",
       "\n",
       "    .dataframe thead th {\n",
       "        text-align: right;\n",
       "    }\n",
       "</style>\n",
       "<table border=\"1\" class=\"dataframe\">\n",
       "  <thead>\n",
       "    <tr style=\"text-align: right;\">\n",
       "      <th></th>\n",
       "      <th>time</th>\n",
       "      <th>P</th>\n",
       "    </tr>\n",
       "  </thead>\n",
       "  <tbody>\n",
       "    <tr>\n",
       "      <th>0</th>\n",
       "      <td>20130101:0010</td>\n",
       "      <td>0.0</td>\n",
       "    </tr>\n",
       "    <tr>\n",
       "      <th>1</th>\n",
       "      <td>20130101:0110</td>\n",
       "      <td>0.0</td>\n",
       "    </tr>\n",
       "    <tr>\n",
       "      <th>2</th>\n",
       "      <td>20130101:0210</td>\n",
       "      <td>0.0</td>\n",
       "    </tr>\n",
       "    <tr>\n",
       "      <th>3</th>\n",
       "      <td>20130101:0310</td>\n",
       "      <td>0.0</td>\n",
       "    </tr>\n",
       "    <tr>\n",
       "      <th>4</th>\n",
       "      <td>20130101:0410</td>\n",
       "      <td>0.0</td>\n",
       "    </tr>\n",
       "    <tr>\n",
       "      <th>...</th>\n",
       "      <td>...</td>\n",
       "      <td>...</td>\n",
       "    </tr>\n",
       "    <tr>\n",
       "      <th>8755</th>\n",
       "      <td>20131231:1910</td>\n",
       "      <td>0.0</td>\n",
       "    </tr>\n",
       "    <tr>\n",
       "      <th>8756</th>\n",
       "      <td>20131231:2010</td>\n",
       "      <td>0.0</td>\n",
       "    </tr>\n",
       "    <tr>\n",
       "      <th>8757</th>\n",
       "      <td>20131231:2110</td>\n",
       "      <td>0.0</td>\n",
       "    </tr>\n",
       "    <tr>\n",
       "      <th>8758</th>\n",
       "      <td>20131231:2210</td>\n",
       "      <td>0.0</td>\n",
       "    </tr>\n",
       "    <tr>\n",
       "      <th>8759</th>\n",
       "      <td>20131231:2310</td>\n",
       "      <td>0.0</td>\n",
       "    </tr>\n",
       "  </tbody>\n",
       "</table>\n",
       "<p>8760 rows × 2 columns</p>\n",
       "</div>"
      ],
      "text/plain": [
       "               time    P\n",
       "0     20130101:0010  0.0\n",
       "1     20130101:0110  0.0\n",
       "2     20130101:0210  0.0\n",
       "3     20130101:0310  0.0\n",
       "4     20130101:0410  0.0\n",
       "...             ...  ...\n",
       "8755  20131231:1910  0.0\n",
       "8756  20131231:2010  0.0\n",
       "8757  20131231:2110  0.0\n",
       "8758  20131231:2210  0.0\n",
       "8759  20131231:2310  0.0\n",
       "\n",
       "[8760 rows x 2 columns]"
      ]
     },
     "execution_count": 8,
     "metadata": {},
     "output_type": "execute_result"
    }
   ],
   "source": [
    "df"
   ]
  },
  {
   "cell_type": "code",
   "execution_count": 9,
   "id": "6f9ccd16-0eaa-4bbd-92e6-f7af52b41834",
   "metadata": {
    "execution": {
     "iopub.execute_input": "2023-07-11T13:50:50.366909Z",
     "iopub.status.busy": "2023-07-11T13:50:50.366909Z",
     "iopub.status.idle": "2023-07-11T13:50:50.417087Z",
     "shell.execute_reply": "2023-07-11T13:50:50.416089Z",
     "shell.execute_reply.started": "2023-07-11T13:50:50.366909Z"
    },
    "tags": []
   },
   "outputs": [],
   "source": [
    "df['datetime'] = pd.to_datetime(df['time'], format='%Y%m%d:%H%M')"
   ]
  },
  {
   "cell_type": "code",
   "execution_count": 10,
   "id": "150921fc-6930-4b96-9d30-e586e24dc596",
   "metadata": {
    "execution": {
     "iopub.execute_input": "2023-07-11T13:50:51.202079Z",
     "iopub.status.busy": "2023-07-11T13:50:51.201103Z",
     "iopub.status.idle": "2023-07-11T13:50:51.215154Z",
     "shell.execute_reply": "2023-07-11T13:50:51.213199Z",
     "shell.execute_reply.started": "2023-07-11T13:50:51.202079Z"
    },
    "tags": []
   },
   "outputs": [],
   "source": [
    "df['time'] = df.datetime.dt.time"
   ]
  },
  {
   "cell_type": "code",
   "execution_count": 11,
   "id": "28ebb397-9a97-4d51-a7e7-4d0a1673a7ab",
   "metadata": {
    "execution": {
     "iopub.execute_input": "2023-07-11T13:50:51.448941Z",
     "iopub.status.busy": "2023-07-11T13:50:51.447913Z",
     "iopub.status.idle": "2023-07-11T13:50:51.652034Z",
     "shell.execute_reply": "2023-07-11T13:50:51.651053Z",
     "shell.execute_reply.started": "2023-07-11T13:50:51.448941Z"
    },
    "tags": []
   },
   "outputs": [
    {
     "data": {
      "text/plain": [
       "array([[<AxesSubplot:title={'center':'P'}>]], dtype=object)"
      ]
     },
     "execution_count": 11,
     "metadata": {},
     "output_type": "execute_result"
    },
    {
     "data": {
      "image/png": "[encoded data removed]",
      "text/plain": [
       "<Figure size 432x288 with 1 Axes>"
      ]
     },
     "metadata": {
      "needs_background": "light"
     },
     "output_type": "display_data"
    }
   ],
   "source": [
    "df[~(df.P == 0)].hist(column='P', bins=20)"
   ]
  },
  {
   "cell_type": "code",
   "execution_count": null,
   "id": "d4f93391-c038-4925-8514-c3efe1ce7d75",
   "metadata": {},
   "outputs": [],
   "source": []
  }
 ],
 "metadata": {
  "kernelspec": {
   "display_name": "Python 3 (ipykernel)",
   "language": "python",
   "name": "python3"
  },
  "language_info": {
   "codemirror_mode": {
    "name": "ipython",
    "version": 3
   },
   "file_extension": ".py",
   "mimetype": "text/x-python",
   "name": "python",
   "nbconvert_exporter": "python",
   "pygments_lexer": "ipython3",
   "version": "3.9.12"
  },
  "widgets": {
   "application/vnd.jupyter.widget-state+json": {
    "state": {},
    "version_major": 2,
    "version_minor": 0
   }
  }
 },
 "nbformat": 4,
 "nbformat_minor": 5
}
