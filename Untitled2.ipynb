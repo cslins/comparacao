{
 "cells": [
  {
   "cell_type": "code",
   "execution_count": 1,
   "id": "78997ff6-1faa-4990-9bc4-a5a2c82b5c03",
   "metadata": {
    "execution": {
     "iopub.execute_input": "2023-05-30T12:18:57.352247Z",
     "iopub.status.busy": "2023-05-30T12:18:57.351260Z",
     "iopub.status.idle": "2023-05-30T12:18:58.580671Z",
     "shell.execute_reply": "2023-05-30T12:18:58.579670Z",
     "shell.execute_reply.started": "2023-05-30T12:18:57.352247Z"
    },
    "tags": []
   },
   "outputs": [],
   "source": [
    "import pandas as pd\n",
    "cityfile = 'result_interp/saopaulo_htrue_SA2_2kWp_2013.csv'\n",
    "\n",
    "dfs = pd.read_csv(cityfile)"
   ]
  },
  {
   "cell_type": "code",
   "execution_count": 2,
   "id": "cf42761a-a2ef-4b5d-b5c7-7adf74193ed3",
   "metadata": {
    "execution": {
     "iopub.execute_input": "2023-05-30T12:19:00.553033Z",
     "iopub.status.busy": "2023-05-30T12:19:00.552049Z",
     "iopub.status.idle": "2023-05-30T12:19:00.742561Z",
     "shell.execute_reply": "2023-05-30T12:19:00.740560Z",
     "shell.execute_reply.started": "2023-05-30T12:19:00.553033Z"
    },
    "tags": []
   },
   "outputs": [],
   "source": [
    "dfs.datetime = dfs.datetime.astype('datetime64[ns]')"
   ]
  },
  {
   "cell_type": "code",
   "execution_count": 3,
   "id": "475c5e89-cf7a-4c3e-96f1-52440759576c",
   "metadata": {
    "execution": {
     "iopub.execute_input": "2023-05-30T12:19:05.534829Z",
     "iopub.status.busy": "2023-05-30T12:19:05.533826Z",
     "iopub.status.idle": "2023-05-30T12:21:01.236343Z",
     "shell.execute_reply": "2023-05-30T12:21:01.234336Z",
     "shell.execute_reply.started": "2023-05-30T12:19:05.534829Z"
    },
    "tags": []
   },
   "outputs": [],
   "source": [
    "df = pd.read_excel('original.xlsx')"
   ]
  },
  {
   "cell_type": "code",
   "execution_count": 4,
   "id": "c5bf867a-4f2a-406f-a42d-87c86befc017",
   "metadata": {
    "execution": {
     "iopub.execute_input": "2023-05-30T12:21:01.239880Z",
     "iopub.status.busy": "2023-05-30T12:21:01.239880Z",
     "iopub.status.idle": "2023-05-30T12:21:03.912438Z",
     "shell.execute_reply": "2023-05-30T12:21:03.910429Z",
     "shell.execute_reply.started": "2023-05-30T12:21:01.239880Z"
    },
    "tags": []
   },
   "outputs": [
    {
     "data": {
      "text/plain": [
       "<AxesSubplot:xlabel='datetime'>"
      ]
     },
     "execution_count": 4,
     "metadata": {},
     "output_type": "execute_result"
    },
    {
     "data": {
      "image/png": "[encoded data removed]",
      "text/plain": [
       "<Figure size 432x288 with 1 Axes>"
      ]
     },
     "metadata": {
      "needs_background": "light"
     },
     "output_type": "display_data"
    }
   ],
   "source": [
    "dfs.head(300).plot(y='P', x='datetime')"
   ]
  },
  {
   "cell_type": "code",
   "execution_count": 9,
   "id": "03c79354-425f-4714-8b20-b5892178f588",
   "metadata": {
    "execution": {
     "iopub.execute_input": "2023-05-30T12:21:42.270588Z",
     "iopub.status.busy": "2023-05-30T12:21:42.268625Z",
     "iopub.status.idle": "2023-05-30T12:21:42.304502Z",
     "shell.execute_reply": "2023-05-30T12:21:42.302278Z",
     "shell.execute_reply.started": "2023-05-30T12:21:42.270588Z"
    },
    "tags": []
   },
   "outputs": [
    {
     "data": {
      "text/html": [
       "<div>\n",
       "<style scoped>\n",
       "    .dataframe tbody tr th:only-of-type {\n",
       "        vertical-align: middle;\n",
       "    }\n",
       "\n",
       "    .dataframe tbody tr th {\n",
       "        vertical-align: top;\n",
       "    }\n",
       "\n",
       "    .dataframe thead th {\n",
       "        text-align: right;\n",
       "    }\n",
       "</style>\n",
       "<table border=\"1\" class=\"dataframe\">\n",
       "  <thead>\n",
       "    <tr style=\"text-align: right;\">\n",
       "      <th></th>\n",
       "      <th>Unnamed: 0</th>\n",
       "      <th>datetime</th>\n",
       "      <th>P</th>\n",
       "    </tr>\n",
       "  </thead>\n",
       "  <tbody>\n",
       "    <tr>\n",
       "      <th>498</th>\n",
       "      <td>498</td>\n",
       "      <td>2013-01-02 17:30:00</td>\n",
       "      <td>8.084764e+01</td>\n",
       "    </tr>\n",
       "    <tr>\n",
       "      <th>499</th>\n",
       "      <td>499</td>\n",
       "      <td>2013-01-02 17:35:00</td>\n",
       "      <td>1.036777e+02</td>\n",
       "    </tr>\n",
       "    <tr>\n",
       "      <th>500</th>\n",
       "      <td>500</td>\n",
       "      <td>2013-01-02 17:40:00</td>\n",
       "      <td>1.384723e+02</td>\n",
       "    </tr>\n",
       "    <tr>\n",
       "      <th>501</th>\n",
       "      <td>501</td>\n",
       "      <td>2013-01-02 17:45:00</td>\n",
       "      <td>1.179464e+02</td>\n",
       "    </tr>\n",
       "    <tr>\n",
       "      <th>502</th>\n",
       "      <td>502</td>\n",
       "      <td>2013-01-02 17:50:00</td>\n",
       "      <td>1.181455e+02</td>\n",
       "    </tr>\n",
       "    <tr>\n",
       "      <th>...</th>\n",
       "      <td>...</td>\n",
       "      <td>...</td>\n",
       "      <td>...</td>\n",
       "    </tr>\n",
       "    <tr>\n",
       "      <th>105115</th>\n",
       "      <td>105115</td>\n",
       "      <td>2013-12-31 23:35:00</td>\n",
       "      <td>6.991693e-11</td>\n",
       "    </tr>\n",
       "    <tr>\n",
       "      <th>105116</th>\n",
       "      <td>105116</td>\n",
       "      <td>2013-12-31 23:40:00</td>\n",
       "      <td>5.788421e-10</td>\n",
       "    </tr>\n",
       "    <tr>\n",
       "      <th>105117</th>\n",
       "      <td>105117</td>\n",
       "      <td>2013-12-31 23:45:00</td>\n",
       "      <td>1.926328e-09</td>\n",
       "    </tr>\n",
       "    <tr>\n",
       "      <th>105118</th>\n",
       "      <td>105118</td>\n",
       "      <td>2013-12-31 23:50:00</td>\n",
       "      <td>1.970826e-08</td>\n",
       "    </tr>\n",
       "    <tr>\n",
       "      <th>105119</th>\n",
       "      <td>105119</td>\n",
       "      <td>2013-12-31 23:55:00</td>\n",
       "      <td>1.133350e-03</td>\n",
       "    </tr>\n",
       "  </tbody>\n",
       "</table>\n",
       "<p>96703 rows × 3 columns</p>\n",
       "</div>"
      ],
      "text/plain": [
       "        Unnamed: 0            datetime             P\n",
       "498            498 2013-01-02 17:30:00  8.084764e+01\n",
       "499            499 2013-01-02 17:35:00  1.036777e+02\n",
       "500            500 2013-01-02 17:40:00  1.384723e+02\n",
       "501            501 2013-01-02 17:45:00  1.179464e+02\n",
       "502            502 2013-01-02 17:50:00  1.181455e+02\n",
       "...            ...                 ...           ...\n",
       "105115      105115 2013-12-31 23:35:00  6.991693e-11\n",
       "105116      105116 2013-12-31 23:40:00  5.788421e-10\n",
       "105117      105117 2013-12-31 23:45:00  1.926328e-09\n",
       "105118      105118 2013-12-31 23:50:00  1.970826e-08\n",
       "105119      105119 2013-12-31 23:55:00  1.133350e-03\n",
       "\n",
       "[96703 rows x 3 columns]"
      ]
     },
     "execution_count": 9,
     "metadata": {},
     "output_type": "execute_result"
    }
   ],
   "source": [
    "dfs"
   ]
  },
  {
   "cell_type": "code",
   "execution_count": 12,
   "id": "6e37b27a-1d09-4ee6-bad5-68a845ad0840",
   "metadata": {
    "execution": {
     "iopub.execute_input": "2023-05-30T12:23:15.398737Z",
     "iopub.status.busy": "2023-05-30T12:23:15.398737Z",
     "iopub.status.idle": "2023-05-30T12:23:15.423348Z",
     "shell.execute_reply": "2023-05-30T12:23:15.421220Z",
     "shell.execute_reply.started": "2023-05-30T12:23:15.398737Z"
    },
    "tags": []
   },
   "outputs": [
    {
     "data": {
      "text/plain": [
       "81      2013-01-03 16:05:00\n",
       "82      2013-01-03 16:05:00\n",
       "273     2013-01-04 08:10:00\n",
       "274     2013-01-04 08:10:00\n",
       "369     2013-01-04 16:05:00\n",
       "                ...        \n",
       "97600   2013-12-30 08:10:00\n",
       "97693   2013-12-30 15:55:00\n",
       "97694   2013-12-30 15:55:00\n",
       "97696   2013-12-30 16:05:00\n",
       "97697   2013-12-30 16:05:00\n",
       "Name: Datetime, Length: 2681, dtype: datetime64[ns]"
      ]
     },
     "execution_count": 12,
     "metadata": {},
     "output_type": "execute_result"
    }
   ],
   "source": [
    "df.Datetime[df.Datetime.duplicated(keep=False)]"
   ]
  },
  {
   "cell_type": "code",
   "execution_count": 8,
   "id": "d6c78003-4dd7-49b2-bf7f-4a75814eea67",
   "metadata": {
    "execution": {
     "iopub.execute_input": "2023-05-30T12:21:37.606488Z",
     "iopub.status.busy": "2023-05-30T12:21:37.606488Z",
     "iopub.status.idle": "2023-05-30T12:21:38.684675Z",
     "shell.execute_reply": "2023-05-30T12:21:38.682684Z",
     "shell.execute_reply.started": "2023-05-30T12:21:37.606488Z"
    },
    "tags": []
   },
   "outputs": [],
   "source": [
    "dfs = dfs[dfs.datetime.isin(df.Datetime.to_list())]"
   ]
  },
  {
   "cell_type": "code",
   "execution_count": 10,
   "id": "fb35025c-d8f6-4144-9a49-2fba3926076c",
   "metadata": {
    "execution": {
     "iopub.execute_input": "2023-05-30T12:22:14.142174Z",
     "iopub.status.busy": "2023-05-30T12:22:14.142174Z",
     "iopub.status.idle": "2023-05-30T12:22:14.651830Z",
     "shell.execute_reply": "2023-05-30T12:22:14.649840Z",
     "shell.execute_reply.started": "2023-05-30T12:22:14.142174Z"
    },
    "tags": []
   },
   "outputs": [
    {
     "data": {
      "text/plain": [
       "False"
      ]
     },
     "execution_count": 10,
     "metadata": {},
     "output_type": "execute_result"
    }
   ],
   "source": [
    "dfs.datetime.to_list() == df.Datetime.to_list()"
   ]
  },
  {
   "cell_type": "code",
   "execution_count": 13,
   "id": "1fca86bc-1174-418f-b8ae-23bda3a8c72b",
   "metadata": {
    "execution": {
     "iopub.execute_input": "2023-05-30T12:23:26.204807Z",
     "iopub.status.busy": "2023-05-30T12:23:26.203799Z",
     "iopub.status.idle": "2023-05-30T12:23:26.223876Z",
     "shell.execute_reply": "2023-05-30T12:23:26.221729Z",
     "shell.execute_reply.started": "2023-05-30T12:23:26.204807Z"
    },
    "tags": []
   },
   "outputs": [],
   "source": [
    "dfdate = pd.DataFrame(df.Datetime).rename(columns={\"Datetime\": \"datetime\"})"
   ]
  },
  {
   "cell_type": "code",
   "execution_count": 14,
   "id": "3788d3c8-4df7-4829-ae4e-a51759f588ba",
   "metadata": {
    "execution": {
     "iopub.execute_input": "2023-05-30T12:23:30.037528Z",
     "iopub.status.busy": "2023-05-30T12:23:30.036519Z",
     "iopub.status.idle": "2023-05-30T12:23:30.109169Z",
     "shell.execute_reply": "2023-05-30T12:23:30.107161Z",
     "shell.execute_reply.started": "2023-05-30T12:23:30.037528Z"
    },
    "tags": []
   },
   "outputs": [],
   "source": [
    "dfs = pd.merge(dfdate, dfs, how='outer', on='datetime')"
   ]
  },
  {
   "cell_type": "code",
   "execution_count": null,
   "id": "7089fb93-2be7-4438-9fbf-0e3a36672334",
   "metadata": {},
   "outputs": [],
   "source": []
  },
  {
   "cell_type": "code",
   "execution_count": 11,
   "id": "5e0be586-183c-475d-a826-b4b7fb3e1384",
   "metadata": {
    "execution": {
     "iopub.execute_input": "2023-05-16T06:55:55.038299Z",
     "iopub.status.busy": "2023-05-16T06:55:55.037287Z",
     "iopub.status.idle": "2023-05-16T06:55:55.129863Z",
     "shell.execute_reply": "2023-05-16T06:55:55.128846Z",
     "shell.execute_reply.started": "2023-05-16T06:55:55.038299Z"
    },
    "tags": []
   },
   "outputs": [],
   "source": [
    "dfs.P = dfs.P.apply(lambda x: x/1000)"
   ]
  },
  {
   "cell_type": "code",
   "execution_count": 14,
   "id": "216f22dd-6631-4d69-b3f4-281e77edcfbc",
   "metadata": {
    "execution": {
     "iopub.execute_input": "2023-05-16T06:57:03.827575Z",
     "iopub.status.busy": "2023-05-16T06:57:03.826579Z",
     "iopub.status.idle": "2023-05-16T06:57:04.272572Z",
     "shell.execute_reply": "2023-05-16T06:57:04.270587Z",
     "shell.execute_reply.started": "2023-05-16T06:57:03.827575Z"
    },
    "tags": []
   },
   "outputs": [],
   "source": [
    "file = open('txt_prod/'+cityfile[14:-4]+'.txt','w')\n",
    "for p in dfs.P.to_list():\n",
    "    file.write(str(p).replace('.', ',')+\"\\n\")"
   ]
  },
  {
   "cell_type": "code",
   "execution_count": 13,
   "id": "0e8cd945-3397-4436-997b-43893dd158e4",
   "metadata": {
    "execution": {
     "iopub.execute_input": "2023-05-16T06:55:55.574649Z",
     "iopub.status.busy": "2023-05-16T06:55:55.573646Z",
     "iopub.status.idle": "2023-05-16T06:55:55.606091Z",
     "shell.execute_reply": "2023-05-16T06:55:55.603030Z",
     "shell.execute_reply.started": "2023-05-16T06:55:55.574649Z"
    },
    "tags": []
   },
   "outputs": [],
   "source": [
    "city = cityfile[14:-4].split('_')[0]"
   ]
  },
  {
   "cell_type": "code",
   "execution_count": null,
   "id": "b946d4a6-73c7-42f0-b5b4-4f928009729a",
   "metadata": {},
   "outputs": [],
   "source": []
  },
  {
   "cell_type": "code",
   "execution_count": null,
   "id": "c1a5dd0b-7034-4200-9f74-f09264b51439",
   "metadata": {},
   "outputs": [],
   "source": []
  },
  {
   "cell_type": "code",
   "execution_count": null,
   "id": "0bf5b2c0-ecbf-4543-8b31-3f967660cafd",
   "metadata": {
    "execution": {
     "iopub.execute_input": "2023-05-16T07:09:14.650134Z",
     "iopub.status.busy": "2023-05-16T07:09:14.649137Z"
    },
    "tags": []
   },
   "outputs": [],
   "source": [
    "execfile('teste_porcentagem.py')"
   ]
  },
  {
   "cell_type": "code",
   "execution_count": null,
   "id": "03233f15-b0d5-4201-a980-881a9f29fd8a",
   "metadata": {
    "tags": []
   },
   "outputs": [],
   "source": [
    "eb, ebper, soc, df = sistfuzzy('Nova pasta/original.xlsx')"
   ]
  },
  {
   "cell_type": "code",
   "execution_count": 19,
   "id": "4cd0fc42-d544-47d5-8ce1-df876ef97834",
   "metadata": {
    "execution": {
     "iopub.execute_input": "2023-05-16T07:03:27.461612Z",
     "iopub.status.busy": "2023-05-16T07:03:27.460626Z",
     "iopub.status.idle": "2023-05-16T07:03:27.921579Z",
     "shell.execute_reply": "2023-05-16T07:03:27.920551Z",
     "shell.execute_reply.started": "2023-05-16T07:03:27.461612Z"
    },
    "tags": []
   },
   "outputs": [],
   "source": [
    "file = open('txts/eb_'+city+'.txt','w')\n",
    "for p in eb:\n",
    "    file.write(str(p).replace('.', ',')+\"\\n\")"
   ]
  },
  {
   "cell_type": "code",
   "execution_count": 20,
   "id": "2d7995c4-af08-4f66-ba50-e89b6c29f38d",
   "metadata": {
    "execution": {
     "iopub.execute_input": "2023-05-16T07:05:15.405831Z",
     "iopub.status.busy": "2023-05-16T07:05:15.404849Z",
     "iopub.status.idle": "2023-05-16T07:05:15.459673Z",
     "shell.execute_reply": "2023-05-16T07:05:15.456681Z",
     "shell.execute_reply.started": "2023-05-16T07:05:15.405831Z"
    },
    "tags": []
   },
   "outputs": [
    {
     "data": {
      "text/plain": [
       "0.0003718427961292473"
      ]
     },
     "execution_count": 20,
     "metadata": {},
     "output_type": "execute_result"
    }
   ],
   "source": [
    "sum(eb)/len(eb)"
   ]
  },
  {
   "cell_type": "code",
   "execution_count": 21,
   "id": "05533489-449f-48b3-b47c-4ecbd9c8977d",
   "metadata": {
    "execution": {
     "iopub.execute_input": "2023-05-16T07:05:15.853257Z",
     "iopub.status.busy": "2023-05-16T07:05:15.853257Z",
     "iopub.status.idle": "2023-05-16T07:05:15.865332Z",
     "shell.execute_reply": "2023-05-16T07:05:15.864160Z",
     "shell.execute_reply.started": "2023-05-16T07:05:15.853257Z"
    },
    "tags": []
   },
   "outputs": [],
   "source": [
    "execfile('agente_simples.py')"
   ]
  },
  {
   "cell_type": "code",
   "execution_count": 22,
   "id": "72c07aec-135d-4081-a444-da6f7fc5cf2c",
   "metadata": {
    "execution": {
     "iopub.execute_input": "2023-05-16T07:05:16.241131Z",
     "iopub.status.busy": "2023-05-16T07:05:16.240132Z",
     "iopub.status.idle": "2023-05-16T07:06:57.442067Z",
     "shell.execute_reply": "2023-05-16T07:06:57.439999Z",
     "shell.execute_reply.started": "2023-05-16T07:05:16.241131Z"
    },
    "tags": []
   },
   "outputs": [],
   "source": [
    "ebs, df = sistsimples('Nova pasta/'+cityfile[14:-4].split('_')[0]+'.xlsx')"
   ]
  },
  {
   "cell_type": "code",
   "execution_count": 25,
   "id": "a3ce03a3-18d2-4097-b72d-a22b1734bdde",
   "metadata": {
    "execution": {
     "iopub.execute_input": "2023-05-16T07:07:05.983140Z",
     "iopub.status.busy": "2023-05-16T07:07:05.982144Z",
     "iopub.status.idle": "2023-05-16T07:07:06.307586Z",
     "shell.execute_reply": "2023-05-16T07:07:06.305605Z",
     "shell.execute_reply.started": "2023-05-16T07:07:05.983140Z"
    },
    "tags": []
   },
   "outputs": [],
   "source": [
    "file = open('txts/simples_eb_'+city+'.txt','w')\n",
    "for p in ebs:\n",
    "    file.write(str(p).replace('.', ',')+\"\\n\")"
   ]
  },
  {
   "cell_type": "code",
   "execution_count": 24,
   "id": "9b3d9a07-816d-44c4-b780-75288afea680",
   "metadata": {
    "execution": {
     "iopub.execute_input": "2023-05-16T07:06:57.838715Z",
     "iopub.status.busy": "2023-05-16T07:06:57.837711Z",
     "iopub.status.idle": "2023-05-16T07:06:57.914865Z",
     "shell.execute_reply": "2023-05-16T07:06:57.912872Z",
     "shell.execute_reply.started": "2023-05-16T07:06:57.838715Z"
    },
    "tags": []
   },
   "outputs": [
    {
     "data": {
      "text/plain": [
       "0.0021309332159783526"
      ]
     },
     "execution_count": 24,
     "metadata": {},
     "output_type": "execute_result"
    }
   ],
   "source": [
    "sum(ebs)/len(ebs)"
   ]
  },
  {
   "cell_type": "code",
   "execution_count": null,
   "id": "59add0fe-3caa-4755-a0a4-6d84b0a0adb5",
   "metadata": {},
   "outputs": [],
   "source": []
  },
  {
   "cell_type": "code",
   "execution_count": null,
   "id": "e904b0e4-4f95-4ff6-b0df-ba684e3a860e",
   "metadata": {},
   "outputs": [],
   "source": []
  },
  {
   "cell_type": "code",
   "execution_count": null,
   "id": "718c9e20-1e4a-4ee3-9c77-a7c9871fcf36",
   "metadata": {},
   "outputs": [],
   "source": []
  },
  {
   "cell_type": "code",
   "execution_count": 33,
   "id": "41a5a38b-8a9e-4f3b-91fd-420a7a7fffb9",
   "metadata": {
    "execution": {
     "iopub.execute_input": "2023-05-16T05:19:22.272914Z",
     "iopub.status.busy": "2023-05-16T05:19:22.271925Z",
     "iopub.status.idle": "2023-05-16T05:19:22.301860Z",
     "shell.execute_reply": "2023-05-16T05:19:22.299638Z",
     "shell.execute_reply.started": "2023-05-16T05:19:22.272914Z"
    },
    "tags": []
   },
   "outputs": [],
   "source": [
    "execfile('1_script_fuzzy_artigo_marcos_filipe_V_2.0.py')"
   ]
  },
  {
   "cell_type": "code",
   "execution_count": 34,
   "id": "4f5a612f-dcbc-49ba-a222-b967023dd0a2",
   "metadata": {
    "execution": {
     "iopub.execute_input": "2023-05-16T05:19:27.291687Z",
     "iopub.status.busy": "2023-05-16T05:19:27.289670Z",
     "iopub.status.idle": "2023-05-16T05:21:15.347277Z",
     "shell.execute_reply": "2023-05-16T05:21:15.345281Z",
     "shell.execute_reply.started": "2023-05-16T05:19:27.291687Z"
    },
    "tags": []
   },
   "outputs": [
    {
     "name": "stderr",
     "output_type": "stream",
     "text": [
      "\n",
      "KeyboardInterrupt\n",
      "\n"
     ]
    }
   ],
   "source": [
    "ebo, df = sistfuzzyorig('Nova pasta/'+cityfile[14:-4].split('_')[0]+'.xlsx')"
   ]
  },
  {
   "cell_type": "code",
   "execution_count": null,
   "id": "48605d2d-dc98-4497-a6b8-4e4c13913ece",
   "metadata": {
    "execution": {
     "iopub.status.busy": "2023-05-16T05:21:15.350280Z",
     "iopub.status.idle": "2023-05-16T05:21:15.350280Z",
     "shell.execute_reply": "2023-05-16T05:21:15.350280Z",
     "shell.execute_reply.started": "2023-05-16T05:21:15.350280Z"
    },
    "tags": []
   },
   "outputs": [],
   "source": [
    "file = open('txts/orig_eb_'+city+'.txt','w')\n",
    "for p in ebo:\n",
    "    file.write(str(p).replace('.', ',')+\"\\n\")"
   ]
  },
  {
   "cell_type": "code",
   "execution_count": null,
   "id": "85af545b-3ec4-4a2e-802a-c89f7c3a3f70",
   "metadata": {},
   "outputs": [],
   "source": []
  }
 ],
 "metadata": {
  "kernelspec": {
   "display_name": "Python 3 (ipykernel)",
   "language": "python",
   "name": "python3"
  },
  "language_info": {
   "codemirror_mode": {
    "name": "ipython",
    "version": 3
   },
   "file_extension": ".py",
   "mimetype": "text/x-python",
   "name": "python",
   "nbconvert_exporter": "python",
   "pygments_lexer": "ipython3",
   "version": "3.9.12"
  },
  "widgets": {
   "application/vnd.jupyter.widget-state+json": {
    "state": {},
    "version_major": 2,
    "version_minor": 0
   }
  }
 },
 "nbformat": 4,
 "nbformat_minor": 5
}
