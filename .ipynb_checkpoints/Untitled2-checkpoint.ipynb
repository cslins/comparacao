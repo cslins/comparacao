{
 "cells": [
  {
   "cell_type": "code",
   "execution_count": 25,
   "id": "78997ff6-1faa-4990-9bc4-a5a2c82b5c03",
   "metadata": {
    "execution": {
     "iopub.execute_input": "2023-05-16T03:23:19.240750Z",
     "iopub.status.busy": "2023-05-16T03:23:19.240750Z",
     "iopub.status.idle": "2023-05-16T03:23:19.415473Z",
     "shell.execute_reply": "2023-05-16T03:23:19.414478Z",
     "shell.execute_reply.started": "2023-05-16T03:23:19.240750Z"
    },
    "tags": []
   },
   "outputs": [],
   "source": [
    "import pandas as pd\n",
    "\n",
    "dfs = pd.read_csv('result_interp/recife_SA2_2kWp_2013.csv')"
   ]
  },
  {
   "cell_type": "code",
   "execution_count": 26,
   "id": "cf42761a-a2ef-4b5d-b5c7-7adf74193ed3",
   "metadata": {
    "execution": {
     "iopub.execute_input": "2023-05-16T03:23:20.211707Z",
     "iopub.status.busy": "2023-05-16T03:23:20.210705Z",
     "iopub.status.idle": "2023-05-16T03:23:20.367351Z",
     "shell.execute_reply": "2023-05-16T03:23:20.363355Z",
     "shell.execute_reply.started": "2023-05-16T03:23:20.211707Z"
    },
    "tags": []
   },
   "outputs": [],
   "source": [
    "dfs.datetime = dfs.datetime.astype('datetime64[ns]')"
   ]
  },
  {
   "cell_type": "code",
   "execution_count": 11,
   "id": "475c5e89-cf7a-4c3e-96f1-52440759576c",
   "metadata": {
    "execution": {
     "iopub.execute_input": "2023-05-16T03:19:06.383776Z",
     "iopub.status.busy": "2023-05-16T03:19:06.383776Z",
     "iopub.status.idle": "2023-05-16T03:20:30.407399Z",
     "shell.execute_reply": "2023-05-16T03:20:30.406396Z",
     "shell.execute_reply.started": "2023-05-16T03:19:06.383776Z"
    }
   },
   "outputs": [],
   "source": [
    "df = pd.read_excel('1_res_fuzzy_en0_dataset_artigo_marcos_filipe1.xlsx')"
   ]
  },
  {
   "cell_type": "code",
   "execution_count": 27,
   "id": "c5bf867a-4f2a-406f-a42d-87c86befc017",
   "metadata": {
    "execution": {
     "iopub.execute_input": "2023-05-16T03:23:21.180835Z",
     "iopub.status.busy": "2023-05-16T03:23:21.179831Z",
     "iopub.status.idle": "2023-05-16T03:23:21.457306Z",
     "shell.execute_reply": "2023-05-16T03:23:21.456287Z",
     "shell.execute_reply.started": "2023-05-16T03:23:21.180835Z"
    },
    "tags": []
   },
   "outputs": [
    {
     "data": {
      "text/plain": [
       "<AxesSubplot:xlabel='datetime'>"
      ]
     },
     "execution_count": 27,
     "metadata": {},
     "output_type": "execute_result"
    },
    {
     "data": {
      "image/png": "[encoded data removed]",
      "text/plain": [
       "<Figure size 432x288 with 1 Axes>"
      ]
     },
     "metadata": {
      "needs_background": "light"
     },
     "output_type": "display_data"
    }
   ],
   "source": [
    "dfs.head(300).plot(y='P', x='datetime')"
   ]
  },
  {
   "cell_type": "code",
   "execution_count": 33,
   "id": "03c79354-425f-4714-8b20-b5892178f588",
   "metadata": {
    "execution": {
     "iopub.execute_input": "2023-05-16T03:27:17.399895Z",
     "iopub.status.busy": "2023-05-16T03:27:17.398896Z",
     "iopub.status.idle": "2023-05-16T03:27:17.476964Z",
     "shell.execute_reply": "2023-05-16T03:27:17.474956Z",
     "shell.execute_reply.started": "2023-05-16T03:27:17.399895Z"
    },
    "tags": []
   },
   "outputs": [
    {
     "data": {
      "text/html": [
       "<div>\n",
       "<style scoped>\n",
       "    .dataframe tbody tr th:only-of-type {\n",
       "        vertical-align: middle;\n",
       "    }\n",
       "\n",
       "    .dataframe tbody tr th {\n",
       "        vertical-align: top;\n",
       "    }\n",
       "\n",
       "    .dataframe thead th {\n",
       "        text-align: right;\n",
       "    }\n",
       "</style>\n",
       "<table border=\"1\" class=\"dataframe\">\n",
       "  <thead>\n",
       "    <tr style=\"text-align: right;\">\n",
       "      <th></th>\n",
       "      <th>Dia</th>\n",
       "      <th>Mês</th>\n",
       "      <th>Hora_U</th>\n",
       "      <th>Minuto</th>\n",
       "      <th>Hora</th>\n",
       "      <th>E_Total_KWh</th>\n",
       "      <th>Eg_KWh</th>\n",
       "      <th>PAC_W</th>\n",
       "      <th>Eg_KW</th>\n",
       "      <th>Ec_KWh</th>\n",
       "      <th>...</th>\n",
       "      <th>E_grid</th>\n",
       "      <th>E_rede_2</th>\n",
       "      <th>E_consumo_1</th>\n",
       "      <th>E_consumo_2</th>\n",
       "      <th>E_consumida_n</th>\n",
       "      <th>Fatura</th>\n",
       "      <th>Fatura_Simples</th>\n",
       "      <th>Data</th>\n",
       "      <th>Hora_H</th>\n",
       "      <th>Datetime</th>\n",
       "    </tr>\n",
       "  </thead>\n",
       "  <tbody>\n",
       "    <tr>\n",
       "      <th>0</th>\n",
       "      <td>2</td>\n",
       "      <td>1</td>\n",
       "      <td>17</td>\n",
       "      <td>30</td>\n",
       "      <td>17.500000</td>\n",
       "      <td>0.0</td>\n",
       "      <td>0.0</td>\n",
       "      <td>0.0</td>\n",
       "      <td>1.272555e-02</td>\n",
       "      <td>0.676351</td>\n",
       "      <td>...</td>\n",
       "      <td>0.012726</td>\n",
       "      <td>-2.692678</td>\n",
       "      <td>0.012726</td>\n",
       "      <td>2.705404</td>\n",
       "      <td>-0.224390</td>\n",
       "      <td>-0.177268</td>\n",
       "      <td>0.178106</td>\n",
       "      <td>2013-01-02</td>\n",
       "      <td>17:30:00</td>\n",
       "      <td>2013-01-02 17:30:00</td>\n",
       "    </tr>\n",
       "    <tr>\n",
       "      <th>1</th>\n",
       "      <td>2</td>\n",
       "      <td>1</td>\n",
       "      <td>17</td>\n",
       "      <td>35</td>\n",
       "      <td>17.583333</td>\n",
       "      <td>0.0</td>\n",
       "      <td>0.0</td>\n",
       "      <td>0.0</td>\n",
       "      <td>1.401694e-02</td>\n",
       "      <td>0.676351</td>\n",
       "      <td>...</td>\n",
       "      <td>0.014017</td>\n",
       "      <td>-2.691387</td>\n",
       "      <td>0.014017</td>\n",
       "      <td>2.705404</td>\n",
       "      <td>-0.224282</td>\n",
       "      <td>-0.177183</td>\n",
       "      <td>0.178106</td>\n",
       "      <td>2013-01-02</td>\n",
       "      <td>17:35:00</td>\n",
       "      <td>2013-01-02 17:35:00</td>\n",
       "    </tr>\n",
       "    <tr>\n",
       "      <th>2</th>\n",
       "      <td>2</td>\n",
       "      <td>1</td>\n",
       "      <td>17</td>\n",
       "      <td>40</td>\n",
       "      <td>17.666667</td>\n",
       "      <td>0.0</td>\n",
       "      <td>0.0</td>\n",
       "      <td>0.0</td>\n",
       "      <td>1.016037e-02</td>\n",
       "      <td>0.676351</td>\n",
       "      <td>...</td>\n",
       "      <td>0.010160</td>\n",
       "      <td>-2.695244</td>\n",
       "      <td>0.010160</td>\n",
       "      <td>2.705404</td>\n",
       "      <td>-0.224604</td>\n",
       "      <td>-0.177437</td>\n",
       "      <td>0.178106</td>\n",
       "      <td>2013-01-02</td>\n",
       "      <td>17:40:00</td>\n",
       "      <td>2013-01-02 17:40:00</td>\n",
       "    </tr>\n",
       "    <tr>\n",
       "      <th>3</th>\n",
       "      <td>2</td>\n",
       "      <td>1</td>\n",
       "      <td>17</td>\n",
       "      <td>45</td>\n",
       "      <td>17.750000</td>\n",
       "      <td>0.0</td>\n",
       "      <td>0.0</td>\n",
       "      <td>0.0</td>\n",
       "      <td>5.022936e-03</td>\n",
       "      <td>0.522741</td>\n",
       "      <td>...</td>\n",
       "      <td>0.005023</td>\n",
       "      <td>-2.085941</td>\n",
       "      <td>0.005023</td>\n",
       "      <td>2.090964</td>\n",
       "      <td>-0.173828</td>\n",
       "      <td>-0.137324</td>\n",
       "      <td>0.137655</td>\n",
       "      <td>2013-01-02</td>\n",
       "      <td>17:45:00</td>\n",
       "      <td>2013-01-02 17:45:00</td>\n",
       "    </tr>\n",
       "    <tr>\n",
       "      <th>4</th>\n",
       "      <td>2</td>\n",
       "      <td>1</td>\n",
       "      <td>17</td>\n",
       "      <td>50</td>\n",
       "      <td>17.833333</td>\n",
       "      <td>0.0</td>\n",
       "      <td>0.0</td>\n",
       "      <td>0.0</td>\n",
       "      <td>2.930837e-03</td>\n",
       "      <td>0.522741</td>\n",
       "      <td>...</td>\n",
       "      <td>0.002931</td>\n",
       "      <td>-2.088033</td>\n",
       "      <td>0.002931</td>\n",
       "      <td>2.090964</td>\n",
       "      <td>-0.174003</td>\n",
       "      <td>-0.137462</td>\n",
       "      <td>0.137655</td>\n",
       "      <td>2013-01-02</td>\n",
       "      <td>17:50:00</td>\n",
       "      <td>2013-01-02 17:50:00</td>\n",
       "    </tr>\n",
       "    <tr>\n",
       "      <th>...</th>\n",
       "      <td>...</td>\n",
       "      <td>...</td>\n",
       "      <td>...</td>\n",
       "      <td>...</td>\n",
       "      <td>...</td>\n",
       "      <td>...</td>\n",
       "      <td>...</td>\n",
       "      <td>...</td>\n",
       "      <td>...</td>\n",
       "      <td>...</td>\n",
       "      <td>...</td>\n",
       "      <td>...</td>\n",
       "      <td>...</td>\n",
       "      <td>...</td>\n",
       "      <td>...</td>\n",
       "      <td>...</td>\n",
       "      <td>...</td>\n",
       "      <td>...</td>\n",
       "      <td>...</td>\n",
       "      <td>...</td>\n",
       "      <td>...</td>\n",
       "    </tr>\n",
       "    <tr>\n",
       "      <th>96698</th>\n",
       "      <td>31</td>\n",
       "      <td>12</td>\n",
       "      <td>23</td>\n",
       "      <td>35</td>\n",
       "      <td>23.583333</td>\n",
       "      <td>0.0</td>\n",
       "      <td>0.0</td>\n",
       "      <td>0.0</td>\n",
       "      <td>3.604511e-09</td>\n",
       "      <td>0.109415</td>\n",
       "      <td>...</td>\n",
       "      <td>0.000679</td>\n",
       "      <td>-0.436981</td>\n",
       "      <td>0.000679</td>\n",
       "      <td>0.437660</td>\n",
       "      <td>-0.036415</td>\n",
       "      <td>-0.017479</td>\n",
       "      <td>0.017506</td>\n",
       "      <td>2013-12-31</td>\n",
       "      <td>23:35:00</td>\n",
       "      <td>2013-12-31 23:35:00</td>\n",
       "    </tr>\n",
       "    <tr>\n",
       "      <th>96699</th>\n",
       "      <td>31</td>\n",
       "      <td>12</td>\n",
       "      <td>23</td>\n",
       "      <td>40</td>\n",
       "      <td>23.666667</td>\n",
       "      <td>0.0</td>\n",
       "      <td>0.0</td>\n",
       "      <td>0.0</td>\n",
       "      <td>8.751030e-10</td>\n",
       "      <td>0.109415</td>\n",
       "      <td>...</td>\n",
       "      <td>0.000679</td>\n",
       "      <td>-0.436981</td>\n",
       "      <td>0.000679</td>\n",
       "      <td>0.437660</td>\n",
       "      <td>-0.036415</td>\n",
       "      <td>-0.017479</td>\n",
       "      <td>0.017506</td>\n",
       "      <td>2013-12-31</td>\n",
       "      <td>23:40:00</td>\n",
       "      <td>2013-12-31 23:40:00</td>\n",
       "    </tr>\n",
       "    <tr>\n",
       "      <th>96700</th>\n",
       "      <td>31</td>\n",
       "      <td>12</td>\n",
       "      <td>23</td>\n",
       "      <td>45</td>\n",
       "      <td>23.750000</td>\n",
       "      <td>0.0</td>\n",
       "      <td>0.0</td>\n",
       "      <td>0.0</td>\n",
       "      <td>7.225747e-10</td>\n",
       "      <td>0.090612</td>\n",
       "      <td>...</td>\n",
       "      <td>0.000562</td>\n",
       "      <td>-0.361886</td>\n",
       "      <td>0.000562</td>\n",
       "      <td>0.362448</td>\n",
       "      <td>-0.030157</td>\n",
       "      <td>-0.014475</td>\n",
       "      <td>0.014498</td>\n",
       "      <td>2013-12-31</td>\n",
       "      <td>23:45:00</td>\n",
       "      <td>2013-12-31 23:45:00</td>\n",
       "    </tr>\n",
       "    <tr>\n",
       "      <th>96701</th>\n",
       "      <td>31</td>\n",
       "      <td>12</td>\n",
       "      <td>23</td>\n",
       "      <td>50</td>\n",
       "      <td>23.833333</td>\n",
       "      <td>0.0</td>\n",
       "      <td>0.0</td>\n",
       "      <td>0.0</td>\n",
       "      <td>2.472981e-08</td>\n",
       "      <td>0.090612</td>\n",
       "      <td>...</td>\n",
       "      <td>0.000562</td>\n",
       "      <td>-0.361886</td>\n",
       "      <td>0.000562</td>\n",
       "      <td>0.362448</td>\n",
       "      <td>-0.030157</td>\n",
       "      <td>-0.014475</td>\n",
       "      <td>0.014498</td>\n",
       "      <td>2013-12-31</td>\n",
       "      <td>23:50:00</td>\n",
       "      <td>2013-12-31 23:50:00</td>\n",
       "    </tr>\n",
       "    <tr>\n",
       "      <th>96702</th>\n",
       "      <td>31</td>\n",
       "      <td>12</td>\n",
       "      <td>23</td>\n",
       "      <td>55</td>\n",
       "      <td>23.916667</td>\n",
       "      <td>0.0</td>\n",
       "      <td>0.0</td>\n",
       "      <td>0.0</td>\n",
       "      <td>3.519357e-05</td>\n",
       "      <td>0.090612</td>\n",
       "      <td>...</td>\n",
       "      <td>0.000598</td>\n",
       "      <td>-0.361850</td>\n",
       "      <td>0.000598</td>\n",
       "      <td>0.362448</td>\n",
       "      <td>-0.030154</td>\n",
       "      <td>-0.014474</td>\n",
       "      <td>0.014498</td>\n",
       "      <td>2013-12-31</td>\n",
       "      <td>23:55:00</td>\n",
       "      <td>2013-12-31 23:55:00</td>\n",
       "    </tr>\n",
       "  </tbody>\n",
       "</table>\n",
       "<p>96703 rows × 28 columns</p>\n",
       "</div>"
      ],
      "text/plain": [
       "       Dia  Mês  Hora_U  Minuto       Hora  E_Total_KWh  Eg_KWh  PAC_W  \\\n",
       "0        2    1      17      30  17.500000          0.0     0.0    0.0   \n",
       "1        2    1      17      35  17.583333          0.0     0.0    0.0   \n",
       "2        2    1      17      40  17.666667          0.0     0.0    0.0   \n",
       "3        2    1      17      45  17.750000          0.0     0.0    0.0   \n",
       "4        2    1      17      50  17.833333          0.0     0.0    0.0   \n",
       "...    ...  ...     ...     ...        ...          ...     ...    ...   \n",
       "96698   31   12      23      35  23.583333          0.0     0.0    0.0   \n",
       "96699   31   12      23      40  23.666667          0.0     0.0    0.0   \n",
       "96700   31   12      23      45  23.750000          0.0     0.0    0.0   \n",
       "96701   31   12      23      50  23.833333          0.0     0.0    0.0   \n",
       "96702   31   12      23      55  23.916667          0.0     0.0    0.0   \n",
       "\n",
       "              Eg_KW    Ec_KWh  ...    E_grid  E_rede_2  E_consumo_1  \\\n",
       "0      1.272555e-02  0.676351  ...  0.012726 -2.692678     0.012726   \n",
       "1      1.401694e-02  0.676351  ...  0.014017 -2.691387     0.014017   \n",
       "2      1.016037e-02  0.676351  ...  0.010160 -2.695244     0.010160   \n",
       "3      5.022936e-03  0.522741  ...  0.005023 -2.085941     0.005023   \n",
       "4      2.930837e-03  0.522741  ...  0.002931 -2.088033     0.002931   \n",
       "...             ...       ...  ...       ...       ...          ...   \n",
       "96698  3.604511e-09  0.109415  ...  0.000679 -0.436981     0.000679   \n",
       "96699  8.751030e-10  0.109415  ...  0.000679 -0.436981     0.000679   \n",
       "96700  7.225747e-10  0.090612  ...  0.000562 -0.361886     0.000562   \n",
       "96701  2.472981e-08  0.090612  ...  0.000562 -0.361886     0.000562   \n",
       "96702  3.519357e-05  0.090612  ...  0.000598 -0.361850     0.000598   \n",
       "\n",
       "       E_consumo_2  E_consumida_n    Fatura  Fatura_Simples       Data  \\\n",
       "0         2.705404      -0.224390 -0.177268        0.178106 2013-01-02   \n",
       "1         2.705404      -0.224282 -0.177183        0.178106 2013-01-02   \n",
       "2         2.705404      -0.224604 -0.177437        0.178106 2013-01-02   \n",
       "3         2.090964      -0.173828 -0.137324        0.137655 2013-01-02   \n",
       "4         2.090964      -0.174003 -0.137462        0.137655 2013-01-02   \n",
       "...            ...            ...       ...             ...        ...   \n",
       "96698     0.437660      -0.036415 -0.017479        0.017506 2013-12-31   \n",
       "96699     0.437660      -0.036415 -0.017479        0.017506 2013-12-31   \n",
       "96700     0.362448      -0.030157 -0.014475        0.014498 2013-12-31   \n",
       "96701     0.362448      -0.030157 -0.014475        0.014498 2013-12-31   \n",
       "96702     0.362448      -0.030154 -0.014474        0.014498 2013-12-31   \n",
       "\n",
       "         Hora_H            Datetime  \n",
       "0      17:30:00 2013-01-02 17:30:00  \n",
       "1      17:35:00 2013-01-02 17:35:00  \n",
       "2      17:40:00 2013-01-02 17:40:00  \n",
       "3      17:45:00 2013-01-02 17:45:00  \n",
       "4      17:50:00 2013-01-02 17:50:00  \n",
       "...         ...                 ...  \n",
       "96698  23:35:00 2013-12-31 23:35:00  \n",
       "96699  23:40:00 2013-12-31 23:40:00  \n",
       "96700  23:45:00 2013-12-31 23:45:00  \n",
       "96701  23:50:00 2013-12-31 23:50:00  \n",
       "96702  23:55:00 2013-12-31 23:55:00  \n",
       "\n",
       "[96703 rows x 28 columns]"
      ]
     },
     "execution_count": 33,
     "metadata": {},
     "output_type": "execute_result"
    }
   ],
   "source": [
    "df"
   ]
  },
  {
   "cell_type": "code",
   "execution_count": 30,
   "id": "6e37b27a-1d09-4ee6-bad5-68a845ad0840",
   "metadata": {
    "execution": {
     "iopub.execute_input": "2023-05-16T03:24:40.272331Z",
     "iopub.status.busy": "2023-05-16T03:24:40.271315Z",
     "iopub.status.idle": "2023-05-16T03:24:40.321728Z",
     "shell.execute_reply": "2023-05-16T03:24:40.320724Z",
     "shell.execute_reply.started": "2023-05-16T03:24:40.272331Z"
    },
    "tags": []
   },
   "outputs": [
    {
     "data": {
      "text/plain": [
       "0       2013-01-02 17:30:00\n",
       "1       2013-01-02 17:35:00\n",
       "2       2013-01-02 17:40:00\n",
       "3       2013-01-02 17:45:00\n",
       "4       2013-01-02 17:50:00\n",
       "                ...        \n",
       "96698   2013-12-31 23:35:00\n",
       "96699   2013-12-31 23:40:00\n",
       "96700   2013-12-31 23:45:00\n",
       "96701   2013-12-31 23:50:00\n",
       "96702   2013-12-31 23:55:00\n",
       "Name: Datetime, Length: 96703, dtype: datetime64[ns]"
      ]
     },
     "execution_count": 30,
     "metadata": {},
     "output_type": "execute_result"
    }
   ],
   "source": [
    "df.Datetime"
   ]
  },
  {
   "cell_type": "code",
   "execution_count": 34,
   "id": "d6c78003-4dd7-49b2-bf7f-4a75814eea67",
   "metadata": {
    "execution": {
     "iopub.execute_input": "2023-05-16T03:28:19.757107Z",
     "iopub.status.busy": "2023-05-16T03:28:19.756123Z",
     "iopub.status.idle": "2023-05-16T03:28:20.760758Z",
     "shell.execute_reply": "2023-05-16T03:28:20.759098Z",
     "shell.execute_reply.started": "2023-05-16T03:28:19.757107Z"
    },
    "tags": []
   },
   "outputs": [],
   "source": [
    "dfs = dfs[dfs.datetime.isin(df.Datetime.to_list())]"
   ]
  },
  {
   "cell_type": "code",
   "execution_count": 35,
   "id": "fb35025c-d8f6-4144-9a49-2fba3926076c",
   "metadata": {
    "execution": {
     "iopub.execute_input": "2023-05-16T03:28:53.066361Z",
     "iopub.status.busy": "2023-05-16T03:28:53.066361Z",
     "iopub.status.idle": "2023-05-16T03:28:53.697454Z",
     "shell.execute_reply": "2023-05-16T03:28:53.696485Z",
     "shell.execute_reply.started": "2023-05-16T03:28:53.066361Z"
    }
   },
   "outputs": [
    {
     "data": {
      "text/plain": [
       "True"
      ]
     },
     "execution_count": 35,
     "metadata": {},
     "output_type": "execute_result"
    }
   ],
   "source": [
    "dfs.datetime.to_list() == df.Datetime.to_list()"
   ]
  },
  {
   "cell_type": "code",
   "execution_count": 36,
   "id": "5e0be586-183c-475d-a826-b4b7fb3e1384",
   "metadata": {
    "execution": {
     "iopub.execute_input": "2023-05-16T03:29:03.921991Z",
     "iopub.status.busy": "2023-05-16T03:29:03.921991Z",
     "iopub.status.idle": "2023-05-16T03:29:03.935872Z",
     "shell.execute_reply": "2023-05-16T03:29:03.934788Z",
     "shell.execute_reply.started": "2023-05-16T03:29:03.921991Z"
    }
   },
   "outputs": [
    {
     "data": {
      "text/plain": [
       "498       2.224044e+01\n",
       "499       3.000995e+01\n",
       "500       6.152054e+00\n",
       "501       4.877883e-01\n",
       "502       1.013048e-01\n",
       "              ...     \n",
       "105115    1.629793e-07\n",
       "105116    2.510933e-07\n",
       "105117    7.532074e-08\n",
       "105118    4.007152e-07\n",
       "105119    1.918658e-03\n",
       "Name: P, Length: 96703, dtype: float64"
      ]
     },
     "execution_count": 36,
     "metadata": {},
     "output_type": "execute_result"
    }
   ],
   "source": [
    "dfs.P"
   ]
  },
  {
   "cell_type": "code",
   "execution_count": 39,
   "id": "216f22dd-6631-4d69-b3f4-281e77edcfbc",
   "metadata": {
    "execution": {
     "iopub.execute_input": "2023-05-16T03:33:45.913899Z",
     "iopub.status.busy": "2023-05-16T03:33:45.913899Z",
     "iopub.status.idle": "2023-05-16T03:33:46.359637Z",
     "shell.execute_reply": "2023-05-16T03:33:46.358633Z",
     "shell.execute_reply.started": "2023-05-16T03:33:45.913899Z"
    },
    "tags": []
   },
   "outputs": [],
   "source": [
    "file = open('txt_prod/test.txt','w')\n",
    "for p in dfs.P.to_list():\n",
    "\tfile.write(str(p).replace('.', ',')+\"\\n\")"
   ]
  },
  {
   "cell_type": "code",
   "execution_count": null,
   "id": "0bf5b2c0-ecbf-4543-8b31-3f967660cafd",
   "metadata": {},
   "outputs": [],
   "source": []
  }
 ],
 "metadata": {
  "kernelspec": {
   "display_name": "Python 3 (ipykernel)",
   "language": "python",
   "name": "python3"
  },
  "language_info": {
   "codemirror_mode": {
    "name": "ipython",
    "version": 3
   },
   "file_extension": ".py",
   "mimetype": "text/x-python",
   "name": "python",
   "nbconvert_exporter": "python",
   "pygments_lexer": "ipython3",
   "version": "3.9.12"
  },
  "widgets": {
   "application/vnd.jupyter.widget-state+json": {
    "state": {},
    "version_major": 2,
    "version_minor": 0
   }
  }
 },
 "nbformat": 4,
 "nbformat_minor": 5
}
